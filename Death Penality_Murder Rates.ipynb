{
 "cells": [
  {
   "cell_type": "code",
   "execution_count": 1,
   "metadata": {},
   "outputs": [
    {
     "data": {
      "text/html": [
       "<div>\n",
       "<style scoped>\n",
       "    .dataframe tbody tr th:only-of-type {\n",
       "        vertical-align: middle;\n",
       "    }\n",
       "\n",
       "    .dataframe tbody tr th {\n",
       "        vertical-align: top;\n",
       "    }\n",
       "\n",
       "    .dataframe thead th {\n",
       "        text-align: right;\n",
       "    }\n",
       "</style>\n",
       "<table border=\"1\" class=\"dataframe\">\n",
       "  <thead>\n",
       "    <tr style=\"text-align: right;\">\n",
       "      <th></th>\n",
       "      <th>State</th>\n",
       "      <th>Year</th>\n",
       "      <th>Population</th>\n",
       "      <th>Violent Crime Rate</th>\n",
       "      <th>Murder Rate</th>\n",
       "      <th>Forcible Rape Rate</th>\n",
       "      <th>Robbery Rate</th>\n",
       "      <th>Aggraveted Assault Rate</th>\n",
       "      <th>Property Crime Rate</th>\n",
       "      <th>Burglary Rate</th>\n",
       "      <th>Larceny &amp; Theft Rate</th>\n",
       "      <th>Motor Vehicle Theft Rate</th>\n",
       "    </tr>\n",
       "  </thead>\n",
       "  <tbody>\n",
       "    <tr>\n",
       "      <th>0</th>\n",
       "      <td>Alaska</td>\n",
       "      <td>1960</td>\n",
       "      <td>226167</td>\n",
       "      <td>104.300003</td>\n",
       "      <td>10.2</td>\n",
       "      <td>20.799999</td>\n",
       "      <td>28.299999</td>\n",
       "      <td>45.099998</td>\n",
       "      <td>1544.900024</td>\n",
       "      <td>332.100006</td>\n",
       "      <td>970.500000</td>\n",
       "      <td>242.300003</td>\n",
       "    </tr>\n",
       "    <tr>\n",
       "      <th>1</th>\n",
       "      <td>Alaska</td>\n",
       "      <td>1961</td>\n",
       "      <td>234000</td>\n",
       "      <td>88.900002</td>\n",
       "      <td>11.5</td>\n",
       "      <td>13.200000</td>\n",
       "      <td>12.400000</td>\n",
       "      <td>51.700001</td>\n",
       "      <td>1540.599976</td>\n",
       "      <td>380.799988</td>\n",
       "      <td>950.000000</td>\n",
       "      <td>209.800003</td>\n",
       "    </tr>\n",
       "    <tr>\n",
       "      <th>2</th>\n",
       "      <td>Alaska</td>\n",
       "      <td>1962</td>\n",
       "      <td>246000</td>\n",
       "      <td>91.500000</td>\n",
       "      <td>4.5</td>\n",
       "      <td>18.700001</td>\n",
       "      <td>13.800000</td>\n",
       "      <td>54.500000</td>\n",
       "      <td>1564.599976</td>\n",
       "      <td>351.600006</td>\n",
       "      <td>985.400024</td>\n",
       "      <td>227.600006</td>\n",
       "    </tr>\n",
       "    <tr>\n",
       "      <th>3</th>\n",
       "      <td>Alaska</td>\n",
       "      <td>1963</td>\n",
       "      <td>248000</td>\n",
       "      <td>109.699997</td>\n",
       "      <td>6.5</td>\n",
       "      <td>14.900000</td>\n",
       "      <td>22.200001</td>\n",
       "      <td>66.099998</td>\n",
       "      <td>1952.800049</td>\n",
       "      <td>381.500000</td>\n",
       "      <td>1213.699951</td>\n",
       "      <td>357.700012</td>\n",
       "    </tr>\n",
       "    <tr>\n",
       "      <th>4</th>\n",
       "      <td>Alaska</td>\n",
       "      <td>1964</td>\n",
       "      <td>250000</td>\n",
       "      <td>150.000000</td>\n",
       "      <td>10.4</td>\n",
       "      <td>22.400000</td>\n",
       "      <td>21.200001</td>\n",
       "      <td>96.000000</td>\n",
       "      <td>2016.000000</td>\n",
       "      <td>443.600006</td>\n",
       "      <td>1218.400024</td>\n",
       "      <td>354.000000</td>\n",
       "    </tr>\n",
       "  </tbody>\n",
       "</table>\n",
       "</div>"
      ],
      "text/plain": [
       "    State  Year  Population  Violent Crime Rate  Murder Rate  \\\n",
       "0  Alaska  1960      226167          104.300003         10.2   \n",
       "1  Alaska  1961      234000           88.900002         11.5   \n",
       "2  Alaska  1962      246000           91.500000          4.5   \n",
       "3  Alaska  1963      248000          109.699997          6.5   \n",
       "4  Alaska  1964      250000          150.000000         10.4   \n",
       "\n",
       "   Forcible Rape Rate  Robbery Rate  Aggraveted Assault Rate  \\\n",
       "0           20.799999     28.299999                45.099998   \n",
       "1           13.200000     12.400000                51.700001   \n",
       "2           18.700001     13.800000                54.500000   \n",
       "3           14.900000     22.200001                66.099998   \n",
       "4           22.400000     21.200001                96.000000   \n",
       "\n",
       "   Property Crime Rate  Burglary Rate  Larceny & Theft Rate  \\\n",
       "0          1544.900024     332.100006            970.500000   \n",
       "1          1540.599976     380.799988            950.000000   \n",
       "2          1564.599976     351.600006            985.400024   \n",
       "3          1952.800049     381.500000           1213.699951   \n",
       "4          2016.000000     443.600006           1218.400024   \n",
       "\n",
       "   Motor Vehicle Theft Rate  \n",
       "0                242.300003  \n",
       "1                209.800003  \n",
       "2                227.600006  \n",
       "3                357.700012  \n",
       "4                354.000000  "
      ]
     },
     "execution_count": 1,
     "metadata": {},
     "output_type": "execute_result"
    }
   ],
   "source": [
    "## Project : US Murder Rate and Capital Punishment\n",
    "#### Author  : Sobha\n",
    "\n",
    "import pandas as pd\n",
    "import numpy as np\n",
    "import os\n",
    "import matplotlib.pyplot as plt\n",
    "#%matplotlib inline\n",
    "\n",
    "os.chdir(r\"provide\\the\\path\")\n",
    "os.chdir(r\"provide\\the\\path\")\n",
    "data = pd.read_csv(\"crime_rates.csv\")\n",
    "data.head()\n",
    "\n",
    "###Question 1.1.### \n",
    "    #Mentioned in report"
   ]
  },
  {
   "cell_type": "code",
   "execution_count": 2,
   "metadata": {},
   "outputs": [
    {
     "name": "stdout",
     "output_type": "stream",
     "text": [
      "\n",
      "        Murder Rates in respective states\n"
     ]
    },
    {
     "data": {
      "text/plain": [
       "<matplotlib.axes._subplots.AxesSubplot at 0x2787b5a2248>"
      ]
     },
     "execution_count": 2,
     "metadata": {},
     "output_type": "execute_result"
    },
    {
     "data": {
      "image/png": "[encoded data removed]",
      "text/plain": [
       "<Figure size 432x288 with 1 Axes>"
      ]
     },
     "metadata": {
      "needs_background": "light"
     },
     "output_type": "display_data"
    }
   ],
   "source": [
    "###Question 1.2.### \n",
    "    #Draw a line plot with years on the horizontal axis and murder rates on the vertical axis. Include two lines: one for \n",
    "    #Alaska murder rates and one for Minnesota murder rates. Create this plot using a single call: ak_mn.plot(’Year’).\n",
    "\n",
    "ak_mn = data[['State','Year','Murder Rate']]\n",
    "ak_mn = ak_mn[ak_mn['State'].isin(['Alaska','Minnesota'])]\n",
    "print(\"\\n        Murder Rates in respective states\") \n",
    "ak_mn.pivot(index='Year',columns='State',values='Murder Rate').plot()"
   ]
  },
  {
   "cell_type": "code",
   "execution_count": 3,
   "metadata": {},
   "outputs": [
    {
     "name": "stdout",
     "output_type": "stream",
     "text": [
      "\n",
      "       5 States that had the highest murder rate in the year 2000\n"
     ]
    },
    {
     "data": {
      "text/plain": [
       "array(['Louisiana', 'Mississippi', 'Maryland', 'Georgia', 'New Mexico'],\n",
       "      dtype=object)"
      ]
     },
     "execution_count": 3,
     "metadata": {},
     "output_type": "execute_result"
    },
    {
     "data": {
      "image/png": "[encoded data removed]",
      "text/plain": [
       "<Figure size 432x288 with 1 Axes>"
      ]
     },
     "metadata": {
      "needs_background": "light"
     },
     "output_type": "display_data"
    }
   ],
   "source": [
    "###Question 1.3###\n",
    "    #mplement the function most_murderous, which takes a year (an integer) as its argument. It does two things:\n",
    "    #1. It draws a horizontal bar chart of the 5 states that had the highest murder rate in that year.\n",
    "    #2. It returns an array of the names of these states in order of increasing murder rate.\n",
    "    \n",
    "def most_murderous(year):\n",
    "    most = data[data['Year']==year][['State','Murder Rate']]\n",
    "    most = most.groupby('State').agg('mean').reset_index().sort_values(['Murder Rate'],ascending=False)[:5]\n",
    "    print(\"\\n       5 States that had the highest murder rate in the year\", year) \n",
    "    most.plot(kind='barh',y='Murder Rate',x='State')\n",
    "    return most['State'].values \n",
    "    print('States in order of increasing murder rate in the year',year,'=', most['State'].values)\n",
    "\n",
    "most_murderous(2000)"
   ]
  },
  {
   "cell_type": "code",
   "execution_count": 4,
   "metadata": {},
   "outputs": [
    {
     "name": "stdout",
     "output_type": "stream",
     "text": [
      "How many more people were murdered in California in 1988 than in 1975 (ca_change) = 726.0\n"
     ]
    }
   ],
   "source": [
    "###Question 1.4.### \n",
    "    #How many more people were murdered in California in 1988 than in 1975? Assign ca_change to the answer.\n",
    "\n",
    "data['Murder Count'] = (data['Murder Rate']*data['Population'])/100000\n",
    "ca_chg = data.loc[data['State']=='California',['Year','Murder Count']]\n",
    "ca_change = np.round(ca_chg[ca_chg['Year'].isin([1988,1975])]['Murder Count'].diff().values[1])\n",
    "print('How many more people were murdered in California in 1988 than in 1975 (ca_change) =',ca_change)"
   ]
  },
  {
   "cell_type": "code",
   "execution_count": 5,
   "metadata": {},
   "outputs": [
    {
     "name": "stdout",
     "output_type": "stream",
     "text": [
      "    State  Murder Rate two_year_changes\n",
      "0  Alaska                            -5\n",
      "       State  Murder Rate two_year_changes\n",
      "0  Minnesota                             6\n"
     ]
    }
   ],
   "source": [
    "###Question 2.1.###\n",
    "    #Implement the function two_year_changes that takes an array of murder rates for a state, ordered by increasing year. \n",
    "    #For all two-year periods (e.g., from 1960 to 1962), it computes and returns the number of increases minus the number \n",
    "    #of decreases.\n",
    "\n",
    "def two_year_change(state):\n",
    "    sub_data = data[data['State']==state][['State','Year','Murder Rate']]\n",
    "    sub_data['diff'] = sub_data[['Murder Rate']].diff(2)\n",
    "    change = np.count_nonzero(sub_data['diff']>0)-np.count_nonzero(sub_data['diff']<0)\n",
    "    return pd.DataFrame([{'State':state,'Murder Rate two_year_changes':change}])\n",
    "\n",
    "print(two_year_change('Alaska'))\n",
    "print(two_year_change('Minnesota'))"
   ]
  },
  {
   "cell_type": "code",
   "execution_count": 6,
   "metadata": {},
   "outputs": [
    {
     "name": "stdout",
     "output_type": "stream",
     "text": [
      "        State  Murder Rate two_year_changes\n",
      "1     Alabama                            -6\n",
      "0      Alaska                            -5\n",
      "3     Arizona                             1\n",
      "2    Arkansas                            -1\n",
      "4  California                            17\n"
     ]
    },
    {
     "data": {
      "text/plain": [
       "<matplotlib.axes._subplots.AxesSubplot at 0x2787be93ec8>"
      ]
     },
     "execution_count": 6,
     "metadata": {},
     "output_type": "execute_result"
    },
    {
     "data": {
      "image/png": "[encoded data removed]",
      "text/plain": [
       "<Figure size 432x288 with 1 Axes>"
      ]
     },
     "metadata": {
      "needs_background": "light"
     },
     "output_type": "display_data"
    }
   ],
   "source": [
    "\n",
    "###Question 2.2.### \n",
    "    #Assign changes by state to a table with one row per state that has two columns: the State name and the Murder Rate \n",
    "    #two year changes statistic computed across all years in our data set for that state.\n",
    "plt.figure()\n",
    "df = pd.DataFrame()\n",
    "for i in data['State'].unique():\n",
    "    df = pd.concat([df,two_year_change(i)])\n",
    "df = df.reset_index(drop=True)\n",
    "df = df.sort_values(by=['State'])\n",
    "print(df.head())\n",
    "\n",
    "df['Murder Rate two_year_changes'].hist()\n"
   ]
  },
  {
   "cell_type": "code",
   "execution_count": 7,
   "metadata": {},
   "outputs": [
    {
     "name": "stdout",
     "output_type": "stream",
     "text": [
      "Total increases minus total decreases, across all states and years: 45\n"
     ]
    }
   ],
   "source": [
    "\n",
    "###Question 2.3.### \n",
    "    #Assign total changes to the total increases minus the total decreases for all two-year periods and all states \n",
    "    #in our data set.\n",
    "\n",
    "total_changes = df['Murder Rate two_year_changes'].sum()\n",
    "print('Total increases minus total decreases, across all states and years:', total_changes)\n"
   ]
  },
  {
   "cell_type": "code",
   "execution_count": 8,
   "metadata": {},
   "outputs": [
    {
     "name": "stdout",
     "output_type": "stream",
     "text": [
      "number of diﬀerent two-year periods in the entire data set: 2100\n"
     ]
    }
   ],
   "source": [
    "\n",
    "###Question 2.4.###\n",
    "    #Set num changes to the number of diﬀerent two-year periods in the entire data set that could result in a change of \n",
    "    #a state’s murder rate. Include both those periods where a change occurred and the periods where a state’s rate \n",
    "    #happened to stay the same.\n",
    "#states_count=data['State'].nunique()\n",
    "#print('count of unique states',states_count)\n",
    "period = 0\n",
    "for i in data['State'].unique():\n",
    "    num_changes = (period+(data[data['State']==i].shape[0]-2))*data['State'].nunique()\n",
    "print(\"number of diﬀerent two-year periods in the entire data set:\",num_changes)\n"
   ]
  },
  {
   "cell_type": "code",
   "execution_count": 9,
   "metadata": {},
   "outputs": [
    {
     "name": "stdout",
     "output_type": "stream",
     "text": [
      "Change   | Chance | Chance sample\n",
      "Increase | 0.5    | 58\n",
      "Decrease | 0.5    | 42\n",
      "            Distribution of your test statistic\n"
     ]
    },
    {
     "data": {
      "image/png": "[encoded data removed]",
      "text/plain": [
       "<Figure size 432x288 with 1 Axes>"
      ]
     },
     "metadata": {
      "needs_background": "light"
     },
     "output_type": "display_data"
    },
    {
     "data": {
      "image/png": "[encoded data removed]",
      "text/plain": [
       "<Figure size 432x288 with 1 Axes>"
      ]
     },
     "metadata": {
      "needs_background": "light"
     },
     "output_type": "display_data"
    }
   ],
   "source": [
    "\n",
    "###Question 2.5.### \n",
    "    #Given these null and alternative hypotheses, deﬁne a good test statistic.\n",
    "    \n",
    "#Null Hypothesis: State murder rates increase and decrease over two-year periods as if \"increase\" or \"decrease\" were \n",
    "                    #sampled at random from a uniform distribution, like a fair coin flip.\n",
    "#Alternative Hypothesis: State murder rates are more likely to increase over two-year periods.\n",
    "#Test Statistics : no.of increases minus no.of decreases\n",
    "\n",
    "###Question 2.6.### \n",
    "\n",
    "from datascience import *\n",
    "uniform = Table().with_columns(\n",
    "    \"Change\", make_array('Increase', 'Decrease'),\n",
    "    \"Chance\", make_array(0.5,        0.5))\n",
    "print(uniform.sample_from_distribution('Chance', 100))\n",
    "\n",
    "def simulate_under_null(num_chances_to_change):\n",
    "    return uniform.sample_from_distribution('Chance',100).column(2).item(0) - uniform.sample_from_distribution('Chance',100).column(2).item(1)\n",
    "    #print('test',uniform.sample_from_distribution('Chance', 100).column(2).item(0)-uniform.sample_from_distribution('Chance', 100).column(2).item(1))\n",
    "#print('simulate_under_null',simulate_under_null)\n",
    "#print('num_changes',num_changes)\n",
    "uniform_samples = make_array()\n",
    "for i in np.arange(5000):\n",
    "    uniform_samples = np.append(uniform_samples, simulate_under_null(num_changes))\n",
    "#print('uniform_samples',uniform_samples)\n",
    "Table().with_column('Test statistic under null', uniform_samples).hist(0, bins=np.arange(-100, 400+25, 25))\n",
    "Table().with_column('Test statistic under null', uniform_samples).hist(bins=np.arange(-30, 38+2, 2))\n",
    "print(\"            Distribution of your test statistic\")\n",
    "\n",
    "#def simulate_under_null(data):\n",
    "#    sub_data = data[['State','Year','Murder Rate']]\n",
    "#    sub_data['diff'] = sub_data[['Murder Rate']].diff(2)\n",
    "#    change = np.count_nonzero(sub_data['diff']>0)-np.count_nonzero(sub_data['diff']<0)\n",
    "#    return 1 if change>0 else -1\n",
    "#stat = []\n",
    "\n",
    "#for i in range(1000):\n",
    "#    stat.append(simulate_under_null(data.sample(num_changes)))\n",
    "#pd.Series(stat).plot(kind='hist',bins=np.arange(-100, 100, 20))\n",
    "#print(\"            Distribution of your test statistic\")\n"
   ]
  },
  {
   "cell_type": "code",
   "execution_count": 10,
   "metadata": {},
   "outputs": [],
   "source": [
    "#def simulate_under_null_(data):\n",
    "#    sub_data = data[['State','Year','Murder Rate']]\n",
    "#    sub_data['diff'] = sub_data[['Murder Rate']].diff(2)\n",
    "#    print(sub_data)\n",
    "#\n",
    "#    change = np.count_nonzero(sub_data['diff']>0)-np.count_nonzero(sub_data['diff']<0)\n",
    "#    return change\n",
    "#\n",
    "#stat = []\n",
    "#for i in range(1000):\n",
    "#    stat.append(simulate_under_null_(data.sample(num_changes)))\n",
    "#pd.Series(stat).plot(kind='hist')\n",
    "#print(\"            Distribution of your test statistic\")"
   ]
  },
  {
   "cell_type": "code",
   "execution_count": 11,
   "metadata": {},
   "outputs": [],
   "source": [
    "### Question 2.7 - explained in report### \n",
    "\n",
    "#which_side = \"Right\"\n",
    "#stat = np.array(stat)\n",
    "#if np.count_nonzero(stat>0)-np.count_nonzero(stat<0)>0:\n",
    "#    reject_null = True\n",
    "#else:\n",
    "#    reject_null = False\n",
    "#reject_null"
   ]
  },
  {
   "cell_type": "code",
   "execution_count": 12,
   "metadata": {},
   "outputs": [
    {
     "name": "stdout",
     "output_type": "stream",
     "text": [
      "        State  Year  Population  Murder Rate\n",
      "44    Alabama  1960     3266740         12.4\n",
      "45    Alabama  1961     3302000         12.9\n",
      "46    Alabama  1962     3358000          9.4\n",
      "47    Alabama  1963     3347000         10.2\n",
      "48    Alabama  1964     3407000          9.3\n",
      "...       ...   ...         ...          ...\n",
      "2195  Wyoming  1999      480000          2.3\n",
      "2196  Wyoming  2000      493782          2.4\n",
      "2197  Wyoming  2001      494423          1.8\n",
      "2198  Wyoming  2002      498830          3.0\n",
      "2199  Wyoming  2003      501242          2.8\n",
      "\n",
      "[1936 rows x 4 columns]\n"
     ]
    }
   ],
   "source": [
    "### Question 3.1, 3.2 - mentioned in report### \n",
    "\n",
    "### Question 3.3###\n",
    "\n",
    "states = set(data['State'])\n",
    "non_death_penalty_states = set(['Alaska', 'Hawaii', 'Maine', 'Michigan', 'Wisconsin', 'Minnesota'])\n",
    "penalty_states = states - non_death_penalty_states\n",
    "\n",
    "death_penalty_murder_rates = data[data['State'].isin(penalty_states)][['State','Year','Population','Murder Rate']]\n",
    "\n",
    "print(death_penalty_murder_rates)"
   ]
  },
  {
   "cell_type": "code",
   "execution_count": 13,
   "metadata": {},
   "outputs": [
    {
     "name": "stdout",
     "output_type": "stream",
     "text": [
      "Test statistic from 1971 to 1973: 22\n"
     ]
    }
   ],
   "source": [
    "### Question 3.4###\n",
    "\n",
    "sub_data = death_penalty_murder_rates[np.logical_and(death_penalty_murder_rates['Year']>1970,death_penalty_murder_rates['Year']<1974)].sort_values(['State','Year'])\n",
    "sub_data = sub_data.sort_values(['State','Year'])\n",
    "stat = []\n",
    "for i in penalty_states:\n",
    "    df = sub_data[sub_data['State']==i]['Murder Rate']\n",
    "    stat.append(df.diff(2).values[-1])\n",
    "\n",
    "stat = np.array(stat)\n",
    "test_stat_72 = np.count_nonzero(stat>0)- np.count_nonzero(stat<0)\n",
    "print('Test statistic from 1971 to 1973:', test_stat_72)"
   ]
  },
  {
   "cell_type": "code",
   "execution_count": 14,
   "metadata": {
    "scrolled": true
   },
   "outputs": [
    {
     "name": "stdout",
     "output_type": "stream",
     "text": [
      "            Distribution of your test statistic\n"
     ]
    },
    {
     "data": {
      "image/png": "[encoded data removed]",
      "text/plain": [
       "<Figure size 432x288 with 1 Axes>"
      ]
     },
     "metadata": {
      "needs_background": "light"
     },
     "output_type": "display_data"
    }
   ],
   "source": [
    "### Question 3.5###\n",
    "\n",
    "samples = make_array()\n",
    "for i in np.arange(5000):\n",
    "    samples=np.append(samples,simulate_under_null(len(states)))\n",
    "Table().with_column('Test statistic under null', samples).hist(0,bins=np.arange(-100, 400+25, 25))\n",
    "print(\"            Distribution of your test statistic\")"
   ]
  },
  {
   "cell_type": "code",
   "execution_count": 15,
   "metadata": {},
   "outputs": [
    {
     "name": "stdout",
     "output_type": "stream",
     "text": [
      "            Distribution of your test statistic\n"
     ]
    },
    {
     "data": {
      "image/png": "[encoded data removed]",
      "text/plain": [
       "<Figure size 432x288 with 1 Axes>"
      ]
     },
     "metadata": {
      "needs_background": "light"
     },
     "output_type": "display_data"
    }
   ],
   "source": [
    "### Question 3.5###\n",
    "Table().with_column('Test statistic under null', samples).hist(bins=np.arange(-30, 28+2, 2))\n",
    "print(\"            Distribution of your test statistic\")\n",
    "\n"
   ]
  },
  {
   "cell_type": "code",
   "execution_count": 16,
   "metadata": {},
   "outputs": [
    {
     "name": "stdout",
     "output_type": "stream",
     "text": [
      "P-value: 0.0005\n"
     ]
    }
   ],
   "source": [
    "###Question 3.6###\n",
    "\n",
    "#pval=np.count_nonzero(np.array(stat)>=test_stat_72)/10000\n",
    "pval=np.count_nonzero(samples>=test_stat_72)/10000\n",
    "print(\"P-value:\",pval)"
   ]
  },
  {
   "cell_type": "code",
   "execution_count": 17,
   "metadata": {},
   "outputs": [
    {
     "data": {
      "text/plain": [
       "array([  99,  990, 9900], dtype=int64)"
      ]
     },
     "execution_count": 17,
     "metadata": {},
     "output_type": "execute_result"
    }
   ],
   "source": [
    "###Section 4####\n",
    "\n",
    "murder_rates = Table.read_table('crime_rates.csv').select('State', 'Year', 'Population', 'Murder Rate')\n",
    "murder_rates.set_format(\"Population\", NumberFormatter)\n",
    "non_death_penalty_states = make_array('Alaska', 'Hawaii', 'Maine', 'Michigan', 'Wisconsin', 'Minnesota')\n",
    "def had_death_penalty_in_1971(state):\n",
    "    return state not in non_death_penalty_states\n",
    "    print('ndps',state not in non_death_penalty_states)\n",
    "states = murder_rates.group('State').select('State')\n",
    "death_penalty = states.with_column('Death Penalty', states.apply(had_death_penalty_in_1971, 0))\n",
    "#print('states',states) \n",
    "#print('death_penalty',death_penalty) \n",
    "dpstates=death_penalty.where('Death Penalty',True).column(0)\n",
    "#print('dp_states',dpstates)\n",
    "\n",
    "num_death_penalty_states = death_penalty.where(\"Death Penalty\", are.equal_to(True)).num_rows\n",
    "#print('no.of death penalty states',num_death_penalty_states)\n",
    "death_penalty_murder_rates=murder_rates.where('State',are.contained_in(dpstates))\n",
    "#print(death_penalty_murder_rates)\n",
    "def diff_n(values, n):\n",
    "    return np.array(values)[n:] - np.array(values)[:-n]\n",
    "diff_n(make_array(1, 10, 100, 1000, 10000), 2)"
   ]
  },
  {
   "cell_type": "code",
   "execution_count": 18,
   "metadata": {},
   "outputs": [
    {
     "name": "stdout",
     "output_type": "stream",
     "text": [
      "Test statistic 1971 to 1973 : 22\n",
      "P-value: 0.0006\n",
      "None\n"
     ]
    }
   ],
   "source": [
    "###Question 4.1###\n",
    "    #Implement run_test, which takes the following arguments:\n",
    "    #A table of murder rates for certain states, sorted by state and year like murder_rates, and\n",
    "    #the year when the analysis starts. (The comparison group is two years later.)\n",
    "\n",
    "def run_test(rates, start_year):\n",
    "    end_year = start_year + 2\n",
    "    year = rates.where('Year',are.between(start_year,end_year+1))\n",
    "    dfstats=make_array()\n",
    "    dist_state = rates.sort('State',distinct = True).column('State')\n",
    "    #print('distinct states',dist_state)\n",
    "    for i in np.arange(len(dist_state)):\n",
    "        df=diff_n(year.where('State',dist_state[i]).column(3),2)\n",
    "        dfstats=np.append(dfstats,df)\n",
    "        #print('stats',dfstats)\n",
    "    observed_test_statistic= np.count_nonzero(dfstats>0)-np.count_nonzero(dfstats<0)\n",
    "    print('Test statistic', start_year, 'to', end_year, ':', observed_test_statistic)\n",
    "    num_states = rates.group('State').num_rows\n",
    "    samples = make_array()\n",
    "    for i in np.arange(5000): \n",
    "        samples=np.append(samples,simulate_under_null(len(dist_state)))\n",
    "    if observed_test_statistic<0:\n",
    "        pval=np.count_nonzero(samples<observed_test_statistic)/5000\n",
    "        #return pval\n",
    "        print(\"P-value:\",pval)\n",
    "    elif observed_test_statistic>0:\n",
    "        pval=np.count_nonzero(samples>observed_test_statistic)/5000\n",
    "        #return pval\n",
    "        print(\"P-value:\",pval)\n",
    "print(run_test(death_penalty_murder_rates, 1971))\n",
    "\n"
   ]
  },
  {
   "cell_type": "code",
   "execution_count": 19,
   "metadata": {},
   "outputs": [
    {
     "name": "stdout",
     "output_type": "stream",
     "text": [
      "Test statistic 1971 to 1973 : 1\n",
      "P-value: 0.4316\n"
     ]
    }
   ],
   "source": [
    "###Question 4.2.### \n",
    "    # Create a table called non_death_penalty_murder_rates with the same columns as murder_rates but only containing \n",
    "    #rows for the six states without the death penalty in 1971. Perform the same test on this table\n",
    "    \n",
    "non_death_penalty_murder_rates=murder_rates.where('State',are.contained_in(non_death_penalty_states))\n",
    "run_test(non_death_penalty_murder_rates, 1971)"
   ]
  },
  {
   "cell_type": "code",
   "execution_count": 20,
   "metadata": {},
   "outputs": [
    {
     "name": "stdout",
     "output_type": "stream",
     "text": [
      "Increases minus decreases from 1975 to 1977 (when the death penalty was reinstated) among death penalty states: -18\n",
      "Test statistic 1975 to 1977 : -18\n",
      "P-value: 0.0058\n"
     ]
    }
   ],
   "source": [
    "ak = murder_rates.where('State', 'Alaska').drop('State', 'Population').relabeled(1, 'Murder rate in Alaska')\n",
    "mn = murder_rates.where('State', 'Minnesota').drop('State', 'Population').relabeled(1, 'Murder rate in Minnesota')\n",
    "def two_year_changes(rates):\n",
    "    return np.count_nonzero(diff_n(rates,2)>0)-np.count_nonzero(diff_n(rates,2)<0)\n",
    "    \n",
    "print(\"Increases minus decreases from 1975 to 1977 (when the death penalty was reinstated) among death penalty states:\",\n",
    "      sum(death_penalty_murder_rates.where('Year', are.between_or_equal_to(1975, 1977))\n",
    "                                    .group('State', two_year_changes)\n",
    "                                    .column(\"Murder Rate two_year_changes\")))\n",
    "run_test(death_penalty_murder_rates, 1975)\n",
    "\n",
    "###Question 4.3.### \n",
    "    #Now we've analyzed states where the death penalty went away and came back, as well as states where the death \n",
    "    #penalty was outlawed all along. What do you conclude from the results of the tests we have conducted so far? \n",
    "    #Does all the evidence consistently point toward one conclusion, or is there a contradiction?\n",
    "    \n",
    "#mentioned in the report"
   ]
  },
  {
   "cell_type": "code",
   "execution_count": 21,
   "metadata": {},
   "outputs": [
    {
     "data": {
      "text/html": [
       "<div>\n",
       "<style scoped>\n",
       "    .dataframe tbody tr th:only-of-type {\n",
       "        vertical-align: middle;\n",
       "    }\n",
       "\n",
       "    .dataframe tbody tr th {\n",
       "        vertical-align: top;\n",
       "    }\n",
       "\n",
       "    .dataframe thead th {\n",
       "        text-align: right;\n",
       "    }\n",
       "</style>\n",
       "<table border=\"1\" class=\"dataframe\">\n",
       "  <thead>\n",
       "    <tr style=\"text-align: right;\">\n",
       "      <th></th>\n",
       "      <th>Year</th>\n",
       "      <th>Death penalty states</th>\n",
       "      <th>No death penalty states</th>\n",
       "    </tr>\n",
       "  </thead>\n",
       "  <tbody>\n",
       "    <tr>\n",
       "      <th>0</th>\n",
       "      <td>1960</td>\n",
       "      <td>5.279545</td>\n",
       "      <td>3.550000</td>\n",
       "    </tr>\n",
       "    <tr>\n",
       "      <th>1</th>\n",
       "      <td>1961</td>\n",
       "      <td>4.777273</td>\n",
       "      <td>3.683333</td>\n",
       "    </tr>\n",
       "    <tr>\n",
       "      <th>2</th>\n",
       "      <td>1962</td>\n",
       "      <td>4.615909</td>\n",
       "      <td>2.333333</td>\n",
       "    </tr>\n",
       "    <tr>\n",
       "      <th>3</th>\n",
       "      <td>1963</td>\n",
       "      <td>4.613636</td>\n",
       "      <td>2.750000</td>\n",
       "    </tr>\n",
       "    <tr>\n",
       "      <th>4</th>\n",
       "      <td>1964</td>\n",
       "      <td>4.711364</td>\n",
       "      <td>3.400000</td>\n",
       "    </tr>\n",
       "  </tbody>\n",
       "</table>\n",
       "</div>"
      ],
      "text/plain": [
       "   Year  Death penalty states  No death penalty states\n",
       "0  1960              5.279545                 3.550000\n",
       "1  1961              4.777273                 3.683333\n",
       "2  1962              4.615909                 2.333333\n",
       "3  1963              4.613636                 2.750000\n",
       "4  1964              4.711364                 3.400000"
      ]
     },
     "execution_count": 21,
     "metadata": {},
     "output_type": "execute_result"
    }
   ],
   "source": [
    "###Question 5.1.### \n",
    "    #Create a table called average_murder_rates with 1 row for each year in murder_rates. It should have 3 columns:\n",
    "    #Year, the year,\n",
    "    #Death penalty states, the average murder rate of the states that had the death penalty in 1971, and\n",
    "    #No death penalty states, the average murder rate of the other states.\n",
    "    \n",
    "states = set(data['State'])\n",
    "non_death_penalty_states = set(['Alaska', 'Hawaii', 'Maine', 'Michigan', 'Wisconsin', 'Minnesota'])\n",
    "penalty_states = states - non_death_penalty_states\n",
    "p_data   = data[data['State'].isin(penalty_states)][['State','Year','Murder Rate']].groupby('Year').agg('mean').reset_index().rename(columns={'Murder Rate':'Death penalty states'})\n",
    "non_data = data[data['State'].isin(non_death_penalty_states)][['State','Year','Murder Rate']].groupby('Year').agg('mean').reset_index().rename(columns={'Murder Rate':'No death penalty states'})\n",
    "average_murder_rates = p_data.merge(non_data,on='Year')\n",
    "average_murder_rates.head()"
   ]
  },
  {
   "cell_type": "code",
   "execution_count": 22,
   "metadata": {
    "scrolled": true
   },
   "outputs": [
    {
     "data": {
      "text/plain": [
       "<matplotlib.axes._subplots.AxesSubplot at 0x2787e8da108>"
      ]
     },
     "execution_count": 22,
     "metadata": {},
     "output_type": "execute_result"
    },
    {
     "data": {
      "image/png": "[encoded data removed]",
      "text/plain": [
       "<Figure size 432x288 with 1 Axes>"
      ]
     },
     "metadata": {
      "needs_background": "light"
     },
     "output_type": "display_data"
    }
   ],
   "source": [
    "###Question 5.2.###\n",
    "    #create plot\n",
    "    #one short sentence a high-level takeaway from the line plot below. \n",
    "    #Are the murder rates in these two groups of states related?\n",
    "    \n",
    "average_murder_rates.plot('Year')"
   ]
  },
  {
   "cell_type": "code",
   "execution_count": 23,
   "metadata": {},
   "outputs": [
    {
     "data": {
      "image/png": "[encoded data removed]",
      "text/plain": [
       "<Figure size 432x288 with 1 Axes>"
      ]
     },
     "metadata": {
      "needs_background": "light"
     },
     "output_type": "display_data"
    }
   ],
   "source": [
    "dps=murder_rates.where('State',are.contained_in(states)).group('Year',np.mean).column(3)\n",
    "ndps=murder_rates.where('State',are.contained_in(non_death_penalty_states)).group('Year',np.mean).column(3)\n",
    "dis_year=murder_rates.sort('Year',distinct=True).column('Year')\n",
    "average_murder_rates = Table().with_columns('Year',dis_year,'Death penalty states',dps,'No death penalty states',ndps)\n",
    "\n",
    "###Question 5.2.###\n",
    "    #create plot\n",
    "    #one short sentence a high-level takeaway from the line plot below. \n",
    "    #Are the murder rates in these two groups of states related?\n",
    "\n",
    "canada = Table.read_table('canada.csv')\n",
    "murder_rates_with_canada = average_murder_rates.join(\"Year\", canada.select(\"Year\", \"Homicide\").relabeled(\"Homicide\", \"Canada\"))\n",
    "murder_rates_with_canada.plot('Year')"
   ]
  }
 ],
 "metadata": {
  "kernelspec": {
   "display_name": "Python 3",
   "language": "python",
   "name": "python3"
  },
  "language_info": {
   "codemirror_mode": {
    "name": "ipython",
    "version": 3
   },
   "file_extension": ".py",
   "mimetype": "text/x-python",
   "name": "python",
   "nbconvert_exporter": "python",
   "pygments_lexer": "ipython3",
   "version": "3.7.6"
  },
  "pycharm": {
   "stem_cell": {
    "cell_type": "raw",
    "source": [],
    "metadata": {
     "collapsed": false
    }
   }
  }
 },
 "nbformat": 4,
 "nbformat_minor": 4
}